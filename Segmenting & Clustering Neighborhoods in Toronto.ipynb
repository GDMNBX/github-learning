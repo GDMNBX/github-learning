{
    "cells": [
        {
            "cell_type": "markdown",
            "metadata": {
                "collapsed": true
            },
            "source": "# IBM Certificate: Capstone Project"
        },
        {
            "cell_type": "markdown",
            "metadata": {},
            "source": "_This notebook contains the code for the Capstone project (IBM Certificate)_"
        },
        {
            "cell_type": "markdown",
            "metadata": {},
            "source": "## 1.Segmenting and Clustering Neighborhoods in Toronto"
        },
        {
            "cell_type": "markdown",
            "metadata": {},
            "source": "We import the below libraries:\n- Pandas\n- Numpy\n- Requests\n"
        },
        {
            "cell_type": "code",
            "execution_count": 1,
            "metadata": {},
            "outputs": [],
            "source": "# Import libraries\nimport pandas as pd\nimport numpy as np\nimport requests"
        },
        {
            "cell_type": "markdown",
            "metadata": {},
            "source": "The data we want are the **postal codes** in Canada and in particular the ones corresponding to **Toronto** in the province of Ontario. We can find these data on Wikipedia. The aim is then to scrap the data on the webpage. \n\nThis will be done using the library **_requests_**."
        },
        {
            "cell_type": "code",
            "execution_count": 2,
            "metadata": {},
            "outputs": [],
            "source": "# URL of the wikipedia page\nurl = 'https://en.wikipedia.org/wiki/List_of_postal_codes_of_Canada:_M'\n# Extract the content\nr = requests.get(url)"
        },
        {
            "cell_type": "markdown",
            "metadata": {},
            "source": "Let's check what r contains so we know how to retrieve, clean, organise the data."
        },
        {
            "cell_type": "code",
            "execution_count": 3,
            "metadata": {},
            "outputs": [
                {
                    "name": "stdout",
                    "output_type": "stream",
                    "text": "Status code:  200\nEncoding:  UTF-8\nData type:  <class 'requests.models.Response'>\nHeaders:  text/html; charset=UTF-8\n"
                }
            ],
            "source": "# Check the status code\nprint('Status code: ', r.status_code)\n# Check the encoding\nprint('Encoding: ', r.encoding)\n# Check the data type\nprint('Data type: ', type(r))\n# Check the header\nprint('Headers: ', r.headers['content-type'])"
        },
        {
            "cell_type": "markdown",
            "metadata": {},
            "source": "We need to read an **html** content. Let's use _read_html_ from **Pandas**' library to retrieve the data."
        },
        {
            "cell_type": "code",
            "execution_count": 23,
            "metadata": {},
            "outputs": [],
            "source": "raw_data = pd.read_html(r.text)"
        },
        {
            "cell_type": "code",
            "execution_count": 32,
            "metadata": {},
            "outputs": [
                {
                    "name": "stdout",
                    "output_type": "stream",
                    "text": "\n\n Dimension of the dataframe:  (180, 3)\n"
                },
                {
                    "data": {
                        "text/html": "<div>\n<style scoped>\n    .dataframe tbody tr th:only-of-type {\n        vertical-align: middle;\n    }\n\n    .dataframe tbody tr th {\n        vertical-align: top;\n    }\n\n    .dataframe thead th {\n        text-align: right;\n    }\n</style>\n<table border=\"1\" class=\"dataframe\">\n  <thead>\n    <tr style=\"text-align: right;\">\n      <th></th>\n      <th>Postal Code</th>\n      <th>Borough</th>\n      <th>Neighborhood</th>\n    </tr>\n  </thead>\n  <tbody>\n    <tr>\n      <th>0</th>\n      <td>M1A</td>\n      <td>Not assigned</td>\n      <td>Not assigned</td>\n    </tr>\n    <tr>\n      <th>1</th>\n      <td>M2A</td>\n      <td>Not assigned</td>\n      <td>Not assigned</td>\n    </tr>\n    <tr>\n      <th>2</th>\n      <td>M3A</td>\n      <td>North York</td>\n      <td>Parkwoods</td>\n    </tr>\n    <tr>\n      <th>3</th>\n      <td>M4A</td>\n      <td>North York</td>\n      <td>Victoria Village</td>\n    </tr>\n    <tr>\n      <th>4</th>\n      <td>M5A</td>\n      <td>Downtown Toronto</td>\n      <td>Regent Park, Harbourfront</td>\n    </tr>\n  </tbody>\n</table>\n</div>",
                        "text/plain": "  Postal Code           Borough               Neighborhood\n0         M1A      Not assigned               Not assigned\n1         M2A      Not assigned               Not assigned\n2         M3A        North York                  Parkwoods\n3         M4A        North York           Victoria Village\n4         M5A  Downtown Toronto  Regent Park, Harbourfront"
                    },
                    "execution_count": 32,
                    "metadata": {},
                    "output_type": "execute_result"
                }
            ],
            "source": "postal_codes = raw_data[0]\n\nprint('\\n\\n Dimension of the dataframe: ', postal_codes.shape)\npostal_codes.head()"
        },
        {
            "cell_type": "markdown",
            "metadata": {},
            "source": "We need to clean the data a bit:\n- remove the rows with a borough _'Not assigned'_\n- a borough that has no corresponding neighborhood will have as neighborhood the same name as the borough"
        },
        {
            "cell_type": "code",
            "execution_count": 29,
            "metadata": {},
            "outputs": [
                {
                    "name": "stdout",
                    "output_type": "stream",
                    "text": "77 rows have a borough not assigned and need to be removed.\n"
                }
            ],
            "source": "filter_1 = (postal_codes['Borough'] != 'Not assigned')\nprint('{} rows have a borough not assigned and need to be removed.'.format(len(postal_codes)-filter_1[filter_1 == True].count()))\npostal_codes = postal_codes[filter_1]"
        },
        {
            "cell_type": "code",
            "execution_count": 30,
            "metadata": {},
            "outputs": [
                {
                    "name": "stdout",
                    "output_type": "stream",
                    "text": "103 boroughs have no corresponding neighborhood.\n"
                }
            ],
            "source": "filter_2 = (postal_codes['Neighborhood'] != 'Not assigned' )\nprint('{} boroughs have no corresponding neighborhood.'.format(filter_2[filter_2 == True].count()))\npostal_codes = postal_codes[filter_2]"
        },
        {
            "cell_type": "code",
            "execution_count": 31,
            "metadata": {},
            "outputs": [
                {
                    "data": {
                        "text/plain": "(103, 3)"
                    },
                    "execution_count": 31,
                    "metadata": {},
                    "output_type": "execute_result"
                }
            ],
            "source": "postal_codes.shape"
        }
    ],
    "metadata": {
        "kernelspec": {
            "display_name": "Python 3.6",
            "language": "python",
            "name": "python3"
        },
        "language_info": {
            "codemirror_mode": {
                "name": "ipython",
                "version": 3
            },
            "file_extension": ".py",
            "mimetype": "text/x-python",
            "name": "python",
            "nbconvert_exporter": "python",
            "pygments_lexer": "ipython3",
            "version": "3.6.9"
        }
    },
    "nbformat": 4,
    "nbformat_minor": 1
}